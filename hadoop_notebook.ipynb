{
 "cells": [
  {
   "cell_type": "code",
   "execution_count": null,
   "id": "8fae452a",
   "metadata": {},
   "outputs": [],
   "source": [
    "from hdfs import InsecureClient"
   ]
  },
  {
   "cell_type": "code",
   "execution_count": null,
   "id": "5071865d",
   "metadata": {},
   "outputs": [],
   "source": [
    "# Replace 'hdfs-namenode' with the hostname or IP address of your HDFS NameNode container\n",
    "# Replace '9870' with the port number if you are using a different one\n",
    "hdfs_client = InsecureClient('http://127.0.0.1:9870', user='root')"
   ]
  },
  {
   "cell_type": "code",
   "execution_count": null,
   "id": "c9fb49f9",
   "metadata": {},
   "outputs": [],
   "source": [
    "def test_hdfs_connectivity():\n",
    "    try:\n",
    "        hdfs_client.status('/')\n",
    "        print(\"HDFS connectivity test: PASSED\")\n",
    "    except Exception as e:\n",
    "        print(\"HDFS connectivity test: FAILED\")\n",
    "        print(f\"Error: {e}\")\n",
    "\n",
    "test_hdfs_connectivity()"
   ]
  },
  {
   "cell_type": "code",
   "execution_count": null,
   "id": "a4a8b29e",
   "metadata": {},
   "outputs": [],
   "source": [
    "def test_create_directory():\n",
    "    try:\n",
    "        hdfs_client.makedirs('/test_directory')\n",
    "        assert '/test_directory' in hdfs_client.list('/')\n",
    "        print(\"HDFS create directory test: PASSED\")\n",
    "    except Exception as e:\n",
    "        print(\"HDFS create directory test: FAILED\")\n",
    "        print(f\"Error: {e}\")\n",
    "\n",
    "test_create_directory()"
   ]
  },
  {
   "cell_type": "code",
   "execution_count": null,
   "id": "695cf349",
   "metadata": {},
   "outputs": [],
   "source": [
    "def test_upload_file():\n",
    "    try:\n",
    "        with open('test_file.txt', 'w') as f:\n",
    "            f.write('This is a test file.')\n",
    "\n",
    "        hdfs_client.upload('/test_directory/test_file.txt', 'test_file.txt')\n",
    "        assert 'test_file.txt' in hdfs_client.list('/test_directory')\n",
    "        print(\"HDFS upload file test: PASSED\")\n",
    "    except Exception as e:\n",
    "        print(\"HDFS upload file test: FAILED\")\n",
    "        print(f\"Error: {e}\")\n",
    "\n",
    "test_upload_file()"
   ]
  },
  {
   "cell_type": "code",
   "execution_count": null,
   "id": "37ba3678",
   "metadata": {},
   "outputs": [],
   "source": [
    "def test_download_file():\n",
    "    try:\n",
    "        hdfs_client.download('/test_directory/test_file.txt', 'downloaded_test_file.txt')\n",
    "        with open('downloaded_test_file.txt', 'r') as f:\n",
    "            content = f.read()\n",
    "        assert content == 'This is a test file.'\n",
    "        print(\"HDFS download file test: PASSED\")\n",
    "    except Exception as e:\n",
    "        print(\"HDFS download file test: FAILED\")\n",
    "        print(f\"Error: {e}\")\n",
    "\n",
    "test_download_file()"
   ]
  },
  {
   "cell_type": "code",
   "execution_count": null,
   "id": "7b27026d",
   "metadata": {},
   "outputs": [],
   "source": [
    "def test_delete_directory():\n",
    "    try:\n",
    "        hdfs_client.delete('/test_directory', recursive=True)\n",
    "        assert '/test_directory' not in hdfs_client.list('/')\n",
    "        print(\"HDFS delete directory test: PASSED\")\n",
    "    except Exception as e:\n",
    "        print(\"HDFS delete directory test: FAILED\")\n",
    "        print(f\"Error: {e}\")\n",
    "\n",
    "test_delete_directory()"
   ]
  },
  {
   "cell_type": "code",
   "execution_count": null,
   "id": "bfa8978a",
   "metadata": {},
   "outputs": [],
   "source": [
    "# Create a new directory in HDFS\n",
    "hdfs_client.makedirs('/example_directory')"
   ]
  },
  {
   "cell_type": "code",
   "execution_count": null,
   "id": "6fc96b08",
   "metadata": {},
   "outputs": [],
   "source": [
    "# List the contents of the root directory\n",
    "print(hdfs_client.list('/'))"
   ]
  },
  {
   "cell_type": "code",
   "execution_count": null,
   "id": "5eda918c",
   "metadata": {},
   "outputs": [],
   "source": [
    "# Upload a local file to HDFS\n",
    "# hdfs_client.upload('/example_directory/local_file.txt', 'local_file.txt')"
   ]
  },
  {
   "cell_type": "code",
   "execution_count": null,
   "id": "78d2c625",
   "metadata": {},
   "outputs": [],
   "source": [
    "# Download a file from HDFS to the local file system\n",
    "# hdfs_client.download('/example_directory/local_file.txt', 'downloaded_file.txt')"
   ]
  },
  {
   "cell_type": "code",
   "execution_count": null,
   "id": "ea060aed",
   "metadata": {},
   "outputs": [],
   "source": [
    "# Delete a directory in HDFS\n",
    "hdfs_client.delete('/example_directory', recursive=True)"
   ]
  }
 ],
 "metadata": {
  "kernelspec": {
   "display_name": "Python 3 (ipykernel)",
   "language": "python",
   "name": "python3"
  },
  "language_info": {
   "codemirror_mode": {
    "name": "ipython",
    "version": 3
   },
   "file_extension": ".py",
   "mimetype": "text/x-python",
   "name": "python",
   "nbconvert_exporter": "python",
   "pygments_lexer": "ipython3",
   "version": "3.10.10"
  }
 },
 "nbformat": 4,
 "nbformat_minor": 5
}
